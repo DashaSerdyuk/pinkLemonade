{
 "cells": [
  {
   "cell_type": "code",
   "execution_count": 50,
   "metadata": {},
   "outputs": [],
   "source": [
    "import pandas as pd\n",
    "import numpy as np\n",
    "import os\n",
    "import pymorphy2\n",
    "import re\n",
    "import collections\n",
    "from nltk.stem.snowball import RussianStemmer\n",
    "from nltk.corpus import stopwords\n",
    "from tqdm import tqdm\n",
    "from collections import Counter"
   ]
  },
  {
   "cell_type": "code",
   "execution_count": 51,
   "metadata": {},
   "outputs": [],
   "source": [
    "morph = pymorphy2.MorphAnalyzer()\n",
    "stemmer = RussianStemmer()\n",
    "russian_stopwords = stopwords.words(\"russian\")"
   ]
  },
  {
   "cell_type": "code",
   "execution_count": 52,
   "metadata": {},
   "outputs": [],
   "source": [
    "filename = 'data/old/vtb-encurance.csv';\n",
    "data = pd.read_csv(filename, encoding='utf-8')\n",
    "data = data[['raw_text']]"
   ]
  },
  {
   "cell_type": "code",
   "execution_count": 38,
   "metadata": {},
   "outputs": [],
   "source": [
    "data = pd.read_csv(\"data/retail.csv\", encoding='utf-8')\n",
    "data.drop(\"Unnamed: 0\", inplace=True, axis=1)\n",
    "data['h'] = data['lemmas_lexic'].map(lambda x: len(x.split(\" \")))"
   ]
  },
  {
   "cell_type": "code",
   "execution_count": 39,
   "metadata": {},
   "outputs": [],
   "source": [
    "data = data[data['h'] > 2]"
   ]
  },
  {
   "cell_type": "code",
   "execution_count": 53,
   "metadata": {},
   "outputs": [
    {
     "data": {
      "text/plain": [
       "1253"
      ]
     },
     "execution_count": 53,
     "metadata": {},
     "output_type": "execute_result"
    }
   ],
   "source": [
    "len(data)"
   ]
  },
  {
   "cell_type": "code",
   "execution_count": 41,
   "metadata": {},
   "outputs": [],
   "source": [
    "data = data[['raw_text']]"
   ]
  },
  {
   "cell_type": "code",
   "execution_count": 54,
   "metadata": {},
   "outputs": [],
   "source": [
    "def remove_punct(line):\n",
    "    line2 = re.sub(r'\\d|[\\?\\.\\_\\,\\:\\;\\^\\$\\#\\%\\@\\&\\(\\)\\*\\!\\<\\>\\\"\\'\\{\\}\\[\\]\\~\\+\\-\\=\\/ñ|à|é|ó|ß|á|â|ä|ç|è|é|ê|ì|í|î|ô|ö|ù|ú|ü|œ|ё|ґ|ṗ|‒|“|”|„|き|げ|し|ち|て|上|持|放|\\'|\\`|\\…|\\—|\\–|\\‘|\\’\\¦\\«\\°\\´\\»\\×]', ' ', line)\n",
    "    return line2.replace(\"  \", \" \").lower()"
   ]
  },
  {
   "cell_type": "code",
   "execution_count": 55,
   "metadata": {},
   "outputs": [],
   "source": [
    "data['text_p'] = data['raw_text'].map(lambda x: remove_punct(x))"
   ]
  },
  {
   "cell_type": "code",
   "execution_count": 56,
   "metadata": {},
   "outputs": [],
   "source": [
    "data['lemmas']= data['text_p'].map(lambda x: ' '.join([morph.parse(t)[0].normal_form for t in str(x).split(\" \")]))\n",
    "data['stems']= data['text_p'].map(lambda x: ' '.join([stemmer.stem(t) for t in x.split(\" \")]))"
   ]
  },
  {
   "cell_type": "code",
   "execution_count": 57,
   "metadata": {},
   "outputs": [],
   "source": [
    "servisepos_str = \"ли что у и в к что так как на по с со до как об но о или от бы из ко за из-за из-под под ввиду в виду насчет насчёт нащет нащёт без для над пред при про у через также так же то как-то как то а будто же да но если зато за то как либо лишь однако ни пока притом причем причём так что такчто хотя чтоб чтобы чем разве неужели ну ведь аж только вовсе все-таки всё-таки таки после\"\n",
    "servisepos = list(set(servisepos_str.split(\" \") + russian_stopwords))\n",
    "data['text_p_servicepos_removed'] = data['text_p'].map(lambda x: ' '.join([t for t in x.split(\" \") if t not in servisepos]))\n",
    "data['stems_servicepos_removed'] = data['stems'].map(lambda x: ' '.join([t for t in x.split(\" \") if t not in servisepos]))\n",
    "data['lemms_servicepos_removed'] = data['lemmas'].map(lambda x: ' '.join([t for t in x.split(\" \") if t not in servisepos]))"
   ]
  },
  {
   "cell_type": "code",
   "execution_count": 58,
   "metadata": {},
   "outputs": [],
   "source": [
    "to_remove = \"здравствуйте привет добрый доброе сейчас день вечер ночь пожалуйста было быть был будет будут подскажите утро суток могу можно нужно хотим хочу хочется имеется имеет является являются есть надо мне меня я мы его ему ей ее потом нее якобы мой моя мои мое моё её тоже себя себе нам им нам она он они оно это то вам вас знала знает знают знали узнали узнают сказала сказал сказали скажут уже все всё их ваш наш вы так как это\"\n",
    "remove_lexic = list(set(to_remove.split(\" \"))) \n",
    "data['remove_lexic_raw'] = data['text_p_servicepos_removed'].map(lambda x: ' '.join([t for t in x.split(\" \") if t not in remove_lexic]))\n",
    "data['stems_lexic']= data['remove_lexic_raw'].map(lambda x: ' '.join([stemmer.stem(t) for t in x.split(\" \")]))\n",
    "data['lemmas_lexic']= data['remove_lexic_raw'].map(lambda x: ' '.join([morph.parse(t)[0].normal_form for t in str(x).split(\" \")]))"
   ]
  },
  {
   "cell_type": "code",
   "execution_count": 59,
   "metadata": {},
   "outputs": [],
   "source": [
    "for col in data.columns:\n",
    "    data[col] = data[col].map(lambda x: x.strip())"
   ]
  },
  {
   "cell_type": "code",
   "execution_count": 60,
   "metadata": {},
   "outputs": [],
   "source": [
    "data = data[data['stems_lexic'] != \"\"]\n",
    "#data = data[data['stems_lexic'] != \" \"]"
   ]
  },
  {
   "cell_type": "code",
   "execution_count": 61,
   "metadata": {},
   "outputs": [],
   "source": [
    "data.to_csv(\"data/ensurance.csv\", encoding='utf-8')"
   ]
  },
  {
   "cell_type": "code",
   "execution_count": 62,
   "metadata": {},
   "outputs": [
    {
     "data": {
      "text/html": [
       "<div>\n",
       "<style>\n",
       "    .dataframe thead tr:only-child th {\n",
       "        text-align: right;\n",
       "    }\n",
       "\n",
       "    .dataframe thead th {\n",
       "        text-align: left;\n",
       "    }\n",
       "\n",
       "    .dataframe tbody tr th {\n",
       "        vertical-align: top;\n",
       "    }\n",
       "</style>\n",
       "<table border=\"1\" class=\"dataframe\">\n",
       "  <thead>\n",
       "    <tr style=\"text-align: right;\">\n",
       "      <th></th>\n",
       "      <th>raw_text</th>\n",
       "      <th>text_p</th>\n",
       "      <th>lemmas</th>\n",
       "      <th>stems</th>\n",
       "      <th>text_p_servicepos_removed</th>\n",
       "      <th>stems_servicepos_removed</th>\n",
       "      <th>lemms_servicepos_removed</th>\n",
       "      <th>remove_lexic_raw</th>\n",
       "      <th>stems_lexic</th>\n",
       "      <th>lemmas_lexic</th>\n",
       "    </tr>\n",
       "  </thead>\n",
       "  <tbody>\n",
       "    <tr>\n",
       "      <th>0</th>\n",
       "      <td>скажите в какой срок можно отказаться от страх...</td>\n",
       "      <td>скажите в какой срок можно отказаться от страх...</td>\n",
       "      <td>сказать в какой срок можно отказаться от страх...</td>\n",
       "      <td>скаж в как срок можн отказа от страховк по кре...</td>\n",
       "      <td>скажите срок отказаться страховки кредиту почт...</td>\n",
       "      <td>скаж срок можн отказа страховк кредит почт банк</td>\n",
       "      <td>сказать срок отказаться страховка кредит почта...</td>\n",
       "      <td>скажите срок отказаться страховки кредиту почт...</td>\n",
       "      <td>скаж срок отказа страховк кредит почт банк</td>\n",
       "      <td>сказать срок отказаться страховка кредит почта...</td>\n",
       "    </tr>\n",
       "    <tr>\n",
       "      <th>1</th>\n",
       "      <td>здравствуйте! купила в прошлом году планшет до...</td>\n",
       "      <td>здравствуйте купила в прошлом году планшет доч...</td>\n",
       "      <td>здравствовать купить в прошлое год планшет доч...</td>\n",
       "      <td>здравств куп в прошл год планшет дочк застрахо...</td>\n",
       "      <td>здравствуйте купила прошлом году планшет дочке...</td>\n",
       "      <td>здравств куп прошл год планшет дочк застрахова...</td>\n",
       "      <td>здравствовать купить прошлое год планшет дочка...</td>\n",
       "      <td>купила прошлом году планшет дочке застраховала...</td>\n",
       "      <td>куп прошл год планшет дочк застрахова втб стра...</td>\n",
       "      <td>купить прошлое год планшет дочка застраховать ...</td>\n",
       "    </tr>\n",
       "    <tr>\n",
       "      <th>2</th>\n",
       "      <td>как мне вернуть деньги за страхование которые ...</td>\n",
       "      <td>как мне вернуть деньги за страхование которые ...</td>\n",
       "      <td>как я вернуть деньга за страхование который я ...</td>\n",
       "      <td>как мне вернут деньг за страхован котор мне на...</td>\n",
       "      <td>вернуть деньги страхование которые навязал бан...</td>\n",
       "      <td>вернут деньг страхован котор навяза банк когд ...</td>\n",
       "      <td>вернуть деньга страхование который навязать ба...</td>\n",
       "      <td>вернуть деньги страхование которые навязал бан...</td>\n",
       "      <td>вернут деньг страхован котор навяза банк брал ...</td>\n",
       "      <td>вернуть деньга страхование который навязать ба...</td>\n",
       "    </tr>\n",
       "    <tr>\n",
       "      <th>3</th>\n",
       "      <td>взяла кредит в почта банк, ими же была навязан...</td>\n",
       "      <td>взяла кредит в почта банк ими же была навязана...</td>\n",
       "      <td>взять кредит в почта банк они же быть навязать...</td>\n",
       "      <td>взял кред в почт банк им же был навяза ваш стр...</td>\n",
       "      <td>взяла кредит почта банк ими навязана ваша стра...</td>\n",
       "      <td>взял кред почт банк навяза ваш страховк  дне е...</td>\n",
       "      <td>взять кредит почта банк навязать ваш страховка...</td>\n",
       "      <td>взяла кредит почта банк ими навязана ваша стра...</td>\n",
       "      <td>взял кред почт банк им навяза ваш страховк  дн...</td>\n",
       "      <td>взять кредит почта банк они навязать ваш страх...</td>\n",
       "    </tr>\n",
       "    <tr>\n",
       "      <th>4</th>\n",
       "      <td>, претензию писала еще в октябре. может еще на...</td>\n",
       "      <td>претензию писала еще в октябре может еще написать</td>\n",
       "      <td>претензия писать ещё в октябрь мочь ещё написать</td>\n",
       "      <td>претенз писа ещ в октябр может ещ написа</td>\n",
       "      <td>претензию писала октябре написать</td>\n",
       "      <td>претенз писа ещ октябр ещ написа</td>\n",
       "      <td>претензия писать ещё октябрь мочь ещё написать</td>\n",
       "      <td>претензию писала октябре написать</td>\n",
       "      <td>претенз писа октябр написа</td>\n",
       "      <td>претензия писать октябрь написать</td>\n",
       "    </tr>\n",
       "  </tbody>\n",
       "</table>\n",
       "</div>"
      ],
      "text/plain": [
       "                                            raw_text  \\\n",
       "0  скажите в какой срок можно отказаться от страх...   \n",
       "1  здравствуйте! купила в прошлом году планшет до...   \n",
       "2  как мне вернуть деньги за страхование которые ...   \n",
       "3  взяла кредит в почта банк, ими же была навязан...   \n",
       "4  , претензию писала еще в октябре. может еще на...   \n",
       "\n",
       "                                              text_p  \\\n",
       "0  скажите в какой срок можно отказаться от страх...   \n",
       "1  здравствуйте купила в прошлом году планшет доч...   \n",
       "2  как мне вернуть деньги за страхование которые ...   \n",
       "3  взяла кредит в почта банк ими же была навязана...   \n",
       "4  претензию писала еще в октябре может еще написать   \n",
       "\n",
       "                                              lemmas  \\\n",
       "0  сказать в какой срок можно отказаться от страх...   \n",
       "1  здравствовать купить в прошлое год планшет доч...   \n",
       "2  как я вернуть деньга за страхование который я ...   \n",
       "3  взять кредит в почта банк они же быть навязать...   \n",
       "4   претензия писать ещё в октябрь мочь ещё написать   \n",
       "\n",
       "                                               stems  \\\n",
       "0  скаж в как срок можн отказа от страховк по кре...   \n",
       "1  здравств куп в прошл год планшет дочк застрахо...   \n",
       "2  как мне вернут деньг за страхован котор мне на...   \n",
       "3  взял кред в почт банк им же был навяза ваш стр...   \n",
       "4           претенз писа ещ в октябр может ещ написа   \n",
       "\n",
       "                           text_p_servicepos_removed  \\\n",
       "0  скажите срок отказаться страховки кредиту почт...   \n",
       "1  здравствуйте купила прошлом году планшет дочке...   \n",
       "2  вернуть деньги страхование которые навязал бан...   \n",
       "3  взяла кредит почта банк ими навязана ваша стра...   \n",
       "4                  претензию писала октябре написать   \n",
       "\n",
       "                            stems_servicepos_removed  \\\n",
       "0    скаж срок можн отказа страховк кредит почт банк   \n",
       "1  здравств куп прошл год планшет дочк застрахова...   \n",
       "2  вернут деньг страхован котор навяза банк когд ...   \n",
       "3  взял кред почт банк навяза ваш страховк  дне е...   \n",
       "4                   претенз писа ещ октябр ещ написа   \n",
       "\n",
       "                            lemms_servicepos_removed  \\\n",
       "0  сказать срок отказаться страховка кредит почта...   \n",
       "1  здравствовать купить прошлое год планшет дочка...   \n",
       "2  вернуть деньга страхование который навязать ба...   \n",
       "3  взять кредит почта банк навязать ваш страховка...   \n",
       "4     претензия писать ещё октябрь мочь ещё написать   \n",
       "\n",
       "                                    remove_lexic_raw  \\\n",
       "0  скажите срок отказаться страховки кредиту почт...   \n",
       "1  купила прошлом году планшет дочке застраховала...   \n",
       "2  вернуть деньги страхование которые навязал бан...   \n",
       "3  взяла кредит почта банк ими навязана ваша стра...   \n",
       "4                  претензию писала октябре написать   \n",
       "\n",
       "                                         stems_lexic  \\\n",
       "0         скаж срок отказа страховк кредит почт банк   \n",
       "1  куп прошл год планшет дочк застрахова втб стра...   \n",
       "2  вернут деньг страхован котор навяза банк брал ...   \n",
       "3  взял кред почт банк им навяза ваш страховк  дн...   \n",
       "4                         претенз писа октябр написа   \n",
       "\n",
       "                                        lemmas_lexic  \n",
       "0  сказать срок отказаться страховка кредит почта...  \n",
       "1  купить прошлое год планшет дочка застраховать ...  \n",
       "2  вернуть деньга страхование который навязать ба...  \n",
       "3  взять кредит почта банк они навязать ваш страх...  \n",
       "4                  претензия писать октябрь написать  "
      ]
     },
     "execution_count": 62,
     "metadata": {},
     "output_type": "execute_result"
    }
   ],
   "source": [
    "data.head()"
   ]
  }
 ],
 "metadata": {
  "kernelspec": {
   "display_name": "Python 3",
   "language": "python",
   "name": "python3"
  },
  "language_info": {
   "codemirror_mode": {
    "name": "ipython",
    "version": 3
   },
   "file_extension": ".py",
   "mimetype": "text/x-python",
   "name": "python",
   "nbconvert_exporter": "python",
   "pygments_lexer": "ipython3",
   "version": "3.5.2"
  }
 },
 "nbformat": 4,
 "nbformat_minor": 2
}
